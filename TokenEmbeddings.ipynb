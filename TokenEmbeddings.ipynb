{
 "cells": [
  {
   "cell_type": "code",
   "execution_count": 5,
   "id": "1d1fce70",
   "metadata": {},
   "outputs": [
    {
     "name": "stdout",
     "output_type": "stream",
     "text": [
      "[==================================================] 100.0% 128.1/128.1MB downloaded\n"
     ]
    }
   ],
   "source": [
    "import gensim.downloader as api\n",
    "model = api.load(\"glove-wiki-gigaword-100\")\n"
   ]
  },
  {
   "cell_type": "code",
   "execution_count": 7,
   "id": "af86c7db",
   "metadata": {},
   "outputs": [
    {
     "name": "stdout",
     "output_type": "stream",
     "text": [
      "[-1.6298e-01  3.0141e-01  5.7978e-01  6.6548e-02  4.5835e-01 -1.5329e-01\n",
      "  4.3258e-01 -8.9215e-01  5.7747e-01  3.6375e-01  5.6524e-01 -5.6281e-01\n",
      "  3.5659e-01 -3.6096e-01 -9.9662e-02  5.2753e-01  3.8839e-01  9.6185e-01\n",
      "  1.8841e-01  3.0741e-01 -8.7842e-01 -3.2442e-01  1.1202e+00  7.5126e-02\n",
      "  4.2661e-01 -6.0651e-01 -1.3893e-01  4.7862e-02 -4.5158e-01  9.3723e-02\n",
      "  1.7463e-01  1.0962e+00 -1.0044e+00  6.3889e-02  3.8002e-01  2.1109e-01\n",
      " -6.6247e-01 -4.0736e-01  8.9442e-01 -6.0974e-01 -1.8577e-01 -1.9913e-01\n",
      " -6.9226e-01 -3.1806e-01 -7.8565e-01  2.3831e-01  1.2992e-01  8.7721e-02\n",
      "  4.3205e-01 -2.2662e-01  3.1549e-01 -3.1748e-01 -2.4632e-03  1.6615e-01\n",
      "  4.2358e-01 -1.8087e+00 -3.6699e-01  2.3949e-01  2.5458e+00  3.6111e-01\n",
      "  3.9486e-02  4.8607e-01 -3.6974e-01  5.7282e-02 -4.9317e-01  2.2765e-01\n",
      "  7.9966e-01  2.1428e-01  6.9811e-01  1.1262e+00 -1.3526e-01  7.1972e-01\n",
      " -9.9605e-04 -2.6842e-01 -8.3038e-01  2.1780e-01  3.4355e-01  3.7731e-01\n",
      " -4.0251e-01  3.3124e-01  1.2576e+00 -2.7196e-01 -8.6093e-01  9.0053e-02\n",
      " -2.4876e+00  4.5200e-01  6.6945e-01 -5.4648e-01 -1.0324e-01 -1.6979e-01\n",
      "  5.9437e-01  1.1280e+00  7.5755e-01 -5.9160e-02  1.5152e-01 -2.8388e-01\n",
      "  4.9452e-01 -9.1703e-01  9.1289e-01 -3.0927e-01]\n"
     ]
    }
   ],
   "source": [
    "word_vectors = model\n",
    "\n",
    "print(word_vectors['computer'])"
   ]
  },
  {
   "cell_type": "code",
   "execution_count": 8,
   "id": "89c88a8d",
   "metadata": {},
   "outputs": [
    {
     "name": "stdout",
     "output_type": "stream",
     "text": [
      "(100,)\n"
     ]
    }
   ],
   "source": [
    "print(word_vectors['computer'].shape)"
   ]
  },
  {
   "cell_type": "code",
   "execution_count": 9,
   "id": "89fdcbe4",
   "metadata": {},
   "outputs": [
    {
     "name": "stdout",
     "output_type": "stream",
     "text": [
      "[('queen', 0.7698540687561035), ('monarch', 0.6843380928039551), ('throne', 0.6755735874176025), ('daughter', 0.6594555974006653), ('princess', 0.6520534157752991), ('prince', 0.6517034769058228), ('elizabeth', 0.6464517712593079), ('mother', 0.631171703338623), ('emperor', 0.6106470823287964), ('wife', 0.6098655462265015)]\n"
     ]
    }
   ],
   "source": [
    "print(word_vectors.most_similar(positive=['king','woman'], negative=['man'], topn=10))"
   ]
  },
  {
   "cell_type": "code",
   "execution_count": 12,
   "id": "339da87a",
   "metadata": {},
   "outputs": [
    {
     "name": "stdout",
     "output_type": "stream",
     "text": [
      "0.8323494\n",
      "0.7507691\n",
      "0.7587473\n",
      "0.917573\n",
      "0.56475115\n"
     ]
    }
   ],
   "source": [
    "#Example of calculating similarity\n",
    "\n",
    "print(word_vectors.similarity('woman','man'))\n",
    "print(word_vectors.similarity('king','queen'))\n",
    "print(word_vectors.similarity('uncle','aunt'))\n",
    "print(word_vectors.similarity('boy','girl'))\n",
    "print(word_vectors.similarity('friend','boss'))\n"
   ]
  },
  {
   "cell_type": "code",
   "execution_count": 15,
   "id": "776611c4",
   "metadata": {},
   "outputs": [
    {
     "name": "stdout",
     "output_type": "stream",
     "text": [
      "[('executive', 0.8861948847770691), ('chairman', 0.7696428298950195), ('chief', 0.7450050115585327), ('cfo', 0.7056118249893188), ('vice', 0.6872465014457703)]\n"
     ]
    }
   ],
   "source": [
    "print(word_vectors.most_similar(\"ceo\", topn=5)) # most similar"
   ]
  },
  {
   "cell_type": "code",
   "execution_count": 18,
   "id": "ebddcc18",
   "metadata": {},
   "outputs": [
    {
     "name": "stdout",
     "output_type": "stream",
     "text": [
      "The magnitude of the diff between 'man' and 'woman' is 3.36\n",
      "The magnitude of the diff between 'semiconductor' and 'earthworm' is 7.73\n",
      "The magnitude of the diff between 'nephew' and 'niece' is 2.83\n"
     ]
    }
   ],
   "source": [
    "# vector similarity\n",
    "import numpy as np\n",
    "#words to compare\n",
    "\n",
    "word1 = 'man'\n",
    "word2 = 'woman'\n",
    "\n",
    "word3 = 'semiconductor'\n",
    "word4 = 'earthworm'\n",
    "\n",
    "word5 = 'nephew'\n",
    "word6 = 'niece'\n",
    "\n",
    "#Calculate the vector difference\n",
    "vector_diff1 = model[word1] - model[word2]\n",
    "vector_diff2 = model[word3] - model[word4]\n",
    "vector_diff3 = model[word5] - model[word6]\n",
    "\n",
    "#Calculate the magnitude of the vector diff\n",
    "magnitude_of_diff1 = np.linalg.norm(vector_diff1)\n",
    "magnitude_of_diff2 = np.linalg.norm(vector_diff2)\n",
    "magnitude_of_diff3 = np.linalg.norm(vector_diff3)\n",
    "\n",
    "#Print the magnitude of the difference\n",
    "print(\"The magnitude of the diff between '{}' and '{}' is {:.2f}\".format(word1,word2,magnitude_of_diff1))\n",
    "print(\"The magnitude of the diff between '{}' and '{}' is {:.2f}\".format(word3,word4,magnitude_of_diff2))\n",
    "print(\"The magnitude of the diff between '{}' and '{}' is {:.2f}\".format(word5,word6,magnitude_of_diff3))\n",
    "\n"
   ]
  },
  {
   "cell_type": "markdown",
   "id": "c6a5d564",
   "metadata": {},
   "source": [
    "CREATING TOKEN EMBEDDINGS"
   ]
  },
  {
   "cell_type": "code",
   "execution_count": 1,
   "id": "2fe31d19",
   "metadata": {},
   "outputs": [
    {
     "name": "stdout",
     "output_type": "stream",
     "text": [
      "tensor([2, 3, 5, 1])\n",
      "torch.int64\n",
      "torch.Size([4])\n"
     ]
    }
   ],
   "source": [
    "import torch\n",
    "\n",
    "input_ids = torch.tensor([2, 3, 5, 1])\n",
    "print(input_ids)\n",
    "print(input_ids.dtype)   # shows the data type\n",
    "print(input_ids.shape)   # shows tensor shape\n"
   ]
  },
  {
   "cell_type": "code",
   "execution_count": 2,
   "id": "07a21096",
   "metadata": {},
   "outputs": [],
   "source": [
    "\n",
    "import torch\n",
    "\n",
    "vocab_size = 6\n",
    "output_dim = 3\n",
    "\n",
    "torch.manual_seed(123)\n",
    "embedding_layer = torch.nn.Embedding(vocab_size, output_dim)"
   ]
  },
  {
   "cell_type": "code",
   "execution_count": 3,
   "id": "870723f3",
   "metadata": {},
   "outputs": [
    {
     "name": "stdout",
     "output_type": "stream",
     "text": [
      "Parameter containing:\n",
      "tensor([[ 0.3374, -0.1778, -0.1690],\n",
      "        [ 0.9178,  1.5810,  1.3010],\n",
      "        [ 1.2753, -0.2010, -0.1606],\n",
      "        [-0.4015,  0.9666, -1.1481],\n",
      "        [-1.1589,  0.3255, -0.6315],\n",
      "        [-2.8400, -0.7849, -1.4096]], requires_grad=True)\n"
     ]
    }
   ],
   "source": [
    "print(embedding_layer.weight)"
   ]
  },
  {
   "cell_type": "code",
   "execution_count": 4,
   "id": "a444f444",
   "metadata": {},
   "outputs": [
    {
     "name": "stdout",
     "output_type": "stream",
     "text": [
      "tensor([[-0.4015,  0.9666, -1.1481]], grad_fn=<EmbeddingBackward0>)\n"
     ]
    }
   ],
   "source": [
    "print(embedding_layer(torch.tensor([3])))"
   ]
  },
  {
   "cell_type": "code",
   "execution_count": 5,
   "id": "0f589a9e",
   "metadata": {},
   "outputs": [
    {
     "name": "stdout",
     "output_type": "stream",
     "text": [
      "tensor([[ 1.2753, -0.2010, -0.1606],\n",
      "        [-0.4015,  0.9666, -1.1481],\n",
      "        [-2.8400, -0.7849, -1.4096],\n",
      "        [ 0.9178,  1.5810,  1.3010]], grad_fn=<EmbeddingBackward0>)\n"
     ]
    }
   ],
   "source": [
    "print(embedding_layer(input_ids))"
   ]
  },
  {
   "cell_type": "code",
   "execution_count": null,
   "id": "8512763e",
   "metadata": {},
   "outputs": [],
   "source": []
  }
 ],
 "metadata": {
  "kernelspec": {
   "display_name": "pytorch_env",
   "language": "python",
   "name": "python3"
  },
  "language_info": {
   "codemirror_mode": {
    "name": "ipython",
    "version": 3
   },
   "file_extension": ".py",
   "mimetype": "text/x-python",
   "name": "python",
   "nbconvert_exporter": "python",
   "pygments_lexer": "ipython3",
   "version": "3.10.18"
  }
 },
 "nbformat": 4,
 "nbformat_minor": 5
}
